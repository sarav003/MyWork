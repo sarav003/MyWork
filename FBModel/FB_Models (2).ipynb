{
  "cells": [
    {
      "cell_type": "markdown",
      "metadata": {
        "id": "naWvqMEMHglO"
      },
      "source": [
        "<p style=\"font-size:32px;text-align:center\"> <b>Social network Graph Link Prediction - Facebook Challenge</b> </p>"
      ]
    },
    {
      "cell_type": "code",
      "execution_count": null,
      "metadata": {
        "id": "9wb9N5RzHglP"
      },
      "outputs": [],
      "source": [
        "#Importing Libraries\n",
        "# please do go through this python notebook: \n",
        "import warnings\n",
        "warnings.filterwarnings(\"ignore\")\n",
        "\n",
        "import csv\n",
        "import pandas as pd#pandas to create small dataframes \n",
        "import datetime #Convert to unix time\n",
        "import time #Convert to unix time\n",
        "# if numpy is not installed already : pip3 install numpy\n",
        "import numpy as np#Do aritmetic operations on arrays\n",
        "# matplotlib: used to plot graphs\n",
        "import matplotlib\n",
        "import matplotlib.pylab as plt\n",
        "import seaborn as sns#Plots\n",
        "from matplotlib import rcParams#Size of plots  \n",
        "from sklearn.cluster import MiniBatchKMeans, KMeans#Clustering\n",
        "import math\n",
        "import pickle\n",
        "import os\n",
        "# to install xgboost: pip3 install xgboost\n",
        "import xgboost as xgb\n",
        "\n",
        "import warnings\n",
        "import networkx as nx\n",
        "import pdb\n",
        "import pickle\n",
        "from pandas import HDFStore,DataFrame\n",
        "from pandas import read_hdf\n",
        "from scipy.sparse.linalg import svds, eigs\n",
        "import gc\n",
        "from tqdm import tqdm\n",
        "from sklearn.ensemble import RandomForestClassifier\n",
        "from sklearn.metrics import f1_score"
      ]
    },
    {
      "cell_type": "code",
      "execution_count": null,
      "metadata": {
        "id": "XC4OJFKkHglU"
      },
      "outputs": [],
      "source": [
        "#reading\n",
        "from pandas import read_hdf\n",
        "df_final_train = read_hdf('storage_sample_stage4.h5', 'train_df',mode='r')\n",
        "df_final_test = read_hdf('storage_sample_stage4.h5', 'test_df',mode='r')"
      ]
    },
    {
      "cell_type": "code",
      "execution_count": null,
      "metadata": {
        "colab": {
          "base_uri": "https://localhost:8080/"
        },
        "id": "0vf7AKEG2GCs",
        "outputId": "70266b2f-7f08-4d0c-cb99-f7a9d81666cc"
      },
      "outputs": [
        {
          "output_type": "execute_result",
          "data": {
            "text/plain": [
              "<bound method NDFrame.describe of         source_node  destination_node  indicator_link  jaccard_followers  \\\n",
              "0            273084           1505602               1                  0   \n",
              "1            832016           1543415               1                  0   \n",
              "2           1325247            760242               1                  0   \n",
              "3           1368400           1006992               1                  0   \n",
              "4            140165           1708748               1                  0   \n",
              "...             ...               ...             ...                ...   \n",
              "99997        139353            893843               0                  0   \n",
              "99998        910842            704068               0                  0   \n",
              "99999        794228           1172755               0                  0   \n",
              "100000       949992           1854931               0                  0   \n",
              "100001      1642037           1090977               0                  0   \n",
              "\n",
              "        jaccard_followees  cosine_followers  cosine_followees  \\\n",
              "0                0.000000          0.000000          0.000000   \n",
              "1                0.187135          0.028382          0.343828   \n",
              "2                0.369565          0.156957          0.566038   \n",
              "3                0.000000          0.000000          0.000000   \n",
              "4                0.000000          0.000000          0.000000   \n",
              "...                   ...               ...               ...   \n",
              "99997            0.000000          0.000000          0.000000   \n",
              "99998            0.000000          0.000000          0.000000   \n",
              "99999            0.000000          0.000000          0.000000   \n",
              "100000           0.000000          0.000000          0.000000   \n",
              "100001           0.000000          0.000000          0.000000   \n",
              "\n",
              "        num_followers_s  num_followees_s  num_followees_d  ...     svd_v_s_3  \\\n",
              "0                     6               15                8  ...  1.983691e-06   \n",
              "1                    94               61              142  ... -6.236048e-11   \n",
              "2                    28               41               22  ... -2.380564e-19   \n",
              "3                    11                5                7  ...  6.058498e-11   \n",
              "4                     1               11                3  ...  1.197283e-07   \n",
              "...                 ...              ...              ...  ...           ...   \n",
              "99997                 7                1               10  ...  0.000000e+00   \n",
              "99998                 0                4                1  ...  1.336987e-12   \n",
              "99999                 0                5                1  ...  2.154438e-11   \n",
              "100000                1                2                0  ...  1.620187e-11   \n",
              "100001                1               14                0  ...  7.778089e-09   \n",
              "\n",
              "           svd_v_s_4     svd_v_s_5     svd_v_s_6     svd_v_d_1     svd_v_d_2  \\\n",
              "0       1.545075e-13  8.108434e-13  1.719702e-14 -1.355368e-12  4.675307e-13   \n",
              "1       1.345726e-02  3.703479e-12  2.251737e-10  1.245101e-12 -1.636948e-10   \n",
              "2      -7.021227e-19  1.940403e-19 -3.365389e-19 -1.238370e-18  1.438175e-19   \n",
              "3       1.514614e-11  1.513483e-12  4.498061e-13 -9.818087e-10  3.454672e-11   \n",
              "4       1.999809e-14  3.360247e-13  1.407670e-14  0.000000e+00  0.000000e+00   \n",
              "...              ...           ...           ...           ...           ...   \n",
              "99997   0.000000e+00  0.000000e+00  0.000000e+00 -3.303718e-12  1.538318e-13   \n",
              "99998   4.493330e-15  4.528679e-14  5.475207e-18  0.000000e+00  0.000000e+00   \n",
              "99999   1.566738e-12  2.294564e-13  3.493379e-14  0.000000e+00  0.000000e+00   \n",
              "100000  1.325874e-15  2.066643e-14  2.662102e-16 -1.142753e-17  5.200344e-17   \n",
              "100001  8.005625e-13  9.429577e-11  7.386157e-14 -1.657134e-14  2.085059e-14   \n",
              "\n",
              "           svd_v_d_3     svd_v_d_4     svd_v_d_5     svd_v_d_6  \n",
              "0       1.128591e-06  6.616550e-14  9.771077e-13  4.159752e-14  \n",
              "1      -3.112650e-10  6.738902e-02  2.607801e-11  2.372904e-09  \n",
              "2      -1.852863e-19 -5.901864e-19  1.629341e-19 -2.572452e-19  \n",
              "3       5.213635e-08  9.595823e-13  3.047045e-10  1.246592e-13  \n",
              "4       0.000000e+00  0.000000e+00  0.000000e+00  0.000000e+00  \n",
              "...              ...           ...           ...           ...  \n",
              "99997   1.296745e-06  2.990887e-13  1.589668e-12  7.338551e-14  \n",
              "99998   0.000000e+00  0.000000e+00  0.000000e+00  0.000000e+00  \n",
              "99999   0.000000e+00  0.000000e+00  0.000000e+00  0.000000e+00  \n",
              "100000  3.858875e-15  2.173437e-17  2.241477e-16  3.528355e-20  \n",
              "100001  2.107704e-07  2.652994e-12  2.004727e-14  2.805020e-14  \n",
              "\n",
              "[100002 rows x 54 columns]>"
            ]
          },
          "metadata": {},
          "execution_count": 3
        }
      ],
      "source": [
        "df_final_train.describe"
      ]
    },
    {
      "cell_type": "code",
      "execution_count": null,
      "metadata": {
        "colab": {
          "base_uri": "https://localhost:8080/"
        },
        "id": "5Gm-BHRkHglW",
        "outputId": "51a90e5a-e064-4453-f395-9572771decd6"
      },
      "outputs": [
        {
          "output_type": "execute_result",
          "data": {
            "text/plain": [
              "Index(['source_node', 'destination_node', 'indicator_link',\n",
              "       'jaccard_followers', 'jaccard_followees', 'cosine_followers',\n",
              "       'cosine_followees', 'num_followers_s', 'num_followees_s',\n",
              "       'num_followees_d', 'inter_followers', 'inter_followees', 'adar_index',\n",
              "       'follows_back', 'same_comp', 'shortest_path', 'weight_in', 'weight_out',\n",
              "       'weight_f1', 'weight_f2', 'weight_f3', 'weight_f4', 'page_rank_s',\n",
              "       'page_rank_d', 'katz_s', 'katz_d', 'hubs_s', 'hubs_d', 'authorities_s',\n",
              "       'authorities_d', 'svd_u_s_1', 'svd_u_s_2', 'svd_u_s_3', 'svd_u_s_4',\n",
              "       'svd_u_s_5', 'svd_u_s_6', 'svd_u_d_1', 'svd_u_d_2', 'svd_u_d_3',\n",
              "       'svd_u_d_4', 'svd_u_d_5', 'svd_u_d_6', 'svd_v_s_1', 'svd_v_s_2',\n",
              "       'svd_v_s_3', 'svd_v_s_4', 'svd_v_s_5', 'svd_v_s_6', 'svd_v_d_1',\n",
              "       'svd_v_d_2', 'svd_v_d_3', 'svd_v_d_4', 'svd_v_d_5', 'svd_v_d_6'],\n",
              "      dtype='object')"
            ]
          },
          "metadata": {},
          "execution_count": 4
        }
      ],
      "source": [
        "df_final_train.columns"
      ]
    },
    {
      "cell_type": "code",
      "execution_count": null,
      "metadata": {
        "colab": {
          "base_uri": "https://localhost:8080/",
          "height": 386
        },
        "id": "RqUB0uk6miou",
        "outputId": "f973d97c-e1fa-45e0-c1bb-5a13d507f3fc"
      },
      "outputs": [
        {
          "output_type": "execute_result",
          "data": {
            "text/plain": [
              "   source_node  destination_node  indicator_link  jaccard_followers  \\\n",
              "0       273084           1505602               1                  0   \n",
              "1       832016           1543415               1                  0   \n",
              "2      1325247            760242               1                  0   \n",
              "3      1368400           1006992               1                  0   \n",
              "4       140165           1708748               1                  0   \n",
              "\n",
              "   jaccard_followees  cosine_followers  cosine_followees  num_followers_s  \\\n",
              "0           0.000000          0.000000          0.000000                6   \n",
              "1           0.187135          0.028382          0.343828               94   \n",
              "2           0.369565          0.156957          0.566038               28   \n",
              "3           0.000000          0.000000          0.000000               11   \n",
              "4           0.000000          0.000000          0.000000                1   \n",
              "\n",
              "   num_followees_s  num_followees_d  ...     svd_v_s_3     svd_v_s_4  \\\n",
              "0               15                8  ...  1.983691e-06  1.545075e-13   \n",
              "1               61              142  ... -6.236048e-11  1.345726e-02   \n",
              "2               41               22  ... -2.380564e-19 -7.021227e-19   \n",
              "3                5                7  ...  6.058498e-11  1.514614e-11   \n",
              "4               11                3  ...  1.197283e-07  1.999809e-14   \n",
              "\n",
              "      svd_v_s_5     svd_v_s_6     svd_v_d_1     svd_v_d_2     svd_v_d_3  \\\n",
              "0  8.108434e-13  1.719702e-14 -1.355368e-12  4.675307e-13  1.128591e-06   \n",
              "1  3.703479e-12  2.251737e-10  1.245101e-12 -1.636948e-10 -3.112650e-10   \n",
              "2  1.940403e-19 -3.365389e-19 -1.238370e-18  1.438175e-19 -1.852863e-19   \n",
              "3  1.513483e-12  4.498061e-13 -9.818087e-10  3.454672e-11  5.213635e-08   \n",
              "4  3.360247e-13  1.407670e-14  0.000000e+00  0.000000e+00  0.000000e+00   \n",
              "\n",
              "      svd_v_d_4     svd_v_d_5     svd_v_d_6  \n",
              "0  6.616550e-14  9.771077e-13  4.159752e-14  \n",
              "1  6.738902e-02  2.607801e-11  2.372904e-09  \n",
              "2 -5.901864e-19  1.629341e-19 -2.572452e-19  \n",
              "3  9.595823e-13  3.047045e-10  1.246592e-13  \n",
              "4  0.000000e+00  0.000000e+00  0.000000e+00  \n",
              "\n",
              "[5 rows x 54 columns]"
            ],
            "text/html": [
              "\n",
              "  <div id=\"df-51b79d58-d2c3-405a-a997-1b88baf0281a\">\n",
              "    <div class=\"colab-df-container\">\n",
              "      <div>\n",
              "<style scoped>\n",
              "    .dataframe tbody tr th:only-of-type {\n",
              "        vertical-align: middle;\n",
              "    }\n",
              "\n",
              "    .dataframe tbody tr th {\n",
              "        vertical-align: top;\n",
              "    }\n",
              "\n",
              "    .dataframe thead th {\n",
              "        text-align: right;\n",
              "    }\n",
              "</style>\n",
              "<table border=\"1\" class=\"dataframe\">\n",
              "  <thead>\n",
              "    <tr style=\"text-align: right;\">\n",
              "      <th></th>\n",
              "      <th>source_node</th>\n",
              "      <th>destination_node</th>\n",
              "      <th>indicator_link</th>\n",
              "      <th>jaccard_followers</th>\n",
              "      <th>jaccard_followees</th>\n",
              "      <th>cosine_followers</th>\n",
              "      <th>cosine_followees</th>\n",
              "      <th>num_followers_s</th>\n",
              "      <th>num_followees_s</th>\n",
              "      <th>num_followees_d</th>\n",
              "      <th>...</th>\n",
              "      <th>svd_v_s_3</th>\n",
              "      <th>svd_v_s_4</th>\n",
              "      <th>svd_v_s_5</th>\n",
              "      <th>svd_v_s_6</th>\n",
              "      <th>svd_v_d_1</th>\n",
              "      <th>svd_v_d_2</th>\n",
              "      <th>svd_v_d_3</th>\n",
              "      <th>svd_v_d_4</th>\n",
              "      <th>svd_v_d_5</th>\n",
              "      <th>svd_v_d_6</th>\n",
              "    </tr>\n",
              "  </thead>\n",
              "  <tbody>\n",
              "    <tr>\n",
              "      <th>0</th>\n",
              "      <td>273084</td>\n",
              "      <td>1505602</td>\n",
              "      <td>1</td>\n",
              "      <td>0</td>\n",
              "      <td>0.000000</td>\n",
              "      <td>0.000000</td>\n",
              "      <td>0.000000</td>\n",
              "      <td>6</td>\n",
              "      <td>15</td>\n",
              "      <td>8</td>\n",
              "      <td>...</td>\n",
              "      <td>1.983691e-06</td>\n",
              "      <td>1.545075e-13</td>\n",
              "      <td>8.108434e-13</td>\n",
              "      <td>1.719702e-14</td>\n",
              "      <td>-1.355368e-12</td>\n",
              "      <td>4.675307e-13</td>\n",
              "      <td>1.128591e-06</td>\n",
              "      <td>6.616550e-14</td>\n",
              "      <td>9.771077e-13</td>\n",
              "      <td>4.159752e-14</td>\n",
              "    </tr>\n",
              "    <tr>\n",
              "      <th>1</th>\n",
              "      <td>832016</td>\n",
              "      <td>1543415</td>\n",
              "      <td>1</td>\n",
              "      <td>0</td>\n",
              "      <td>0.187135</td>\n",
              "      <td>0.028382</td>\n",
              "      <td>0.343828</td>\n",
              "      <td>94</td>\n",
              "      <td>61</td>\n",
              "      <td>142</td>\n",
              "      <td>...</td>\n",
              "      <td>-6.236048e-11</td>\n",
              "      <td>1.345726e-02</td>\n",
              "      <td>3.703479e-12</td>\n",
              "      <td>2.251737e-10</td>\n",
              "      <td>1.245101e-12</td>\n",
              "      <td>-1.636948e-10</td>\n",
              "      <td>-3.112650e-10</td>\n",
              "      <td>6.738902e-02</td>\n",
              "      <td>2.607801e-11</td>\n",
              "      <td>2.372904e-09</td>\n",
              "    </tr>\n",
              "    <tr>\n",
              "      <th>2</th>\n",
              "      <td>1325247</td>\n",
              "      <td>760242</td>\n",
              "      <td>1</td>\n",
              "      <td>0</td>\n",
              "      <td>0.369565</td>\n",
              "      <td>0.156957</td>\n",
              "      <td>0.566038</td>\n",
              "      <td>28</td>\n",
              "      <td>41</td>\n",
              "      <td>22</td>\n",
              "      <td>...</td>\n",
              "      <td>-2.380564e-19</td>\n",
              "      <td>-7.021227e-19</td>\n",
              "      <td>1.940403e-19</td>\n",
              "      <td>-3.365389e-19</td>\n",
              "      <td>-1.238370e-18</td>\n",
              "      <td>1.438175e-19</td>\n",
              "      <td>-1.852863e-19</td>\n",
              "      <td>-5.901864e-19</td>\n",
              "      <td>1.629341e-19</td>\n",
              "      <td>-2.572452e-19</td>\n",
              "    </tr>\n",
              "    <tr>\n",
              "      <th>3</th>\n",
              "      <td>1368400</td>\n",
              "      <td>1006992</td>\n",
              "      <td>1</td>\n",
              "      <td>0</td>\n",
              "      <td>0.000000</td>\n",
              "      <td>0.000000</td>\n",
              "      <td>0.000000</td>\n",
              "      <td>11</td>\n",
              "      <td>5</td>\n",
              "      <td>7</td>\n",
              "      <td>...</td>\n",
              "      <td>6.058498e-11</td>\n",
              "      <td>1.514614e-11</td>\n",
              "      <td>1.513483e-12</td>\n",
              "      <td>4.498061e-13</td>\n",
              "      <td>-9.818087e-10</td>\n",
              "      <td>3.454672e-11</td>\n",
              "      <td>5.213635e-08</td>\n",
              "      <td>9.595823e-13</td>\n",
              "      <td>3.047045e-10</td>\n",
              "      <td>1.246592e-13</td>\n",
              "    </tr>\n",
              "    <tr>\n",
              "      <th>4</th>\n",
              "      <td>140165</td>\n",
              "      <td>1708748</td>\n",
              "      <td>1</td>\n",
              "      <td>0</td>\n",
              "      <td>0.000000</td>\n",
              "      <td>0.000000</td>\n",
              "      <td>0.000000</td>\n",
              "      <td>1</td>\n",
              "      <td>11</td>\n",
              "      <td>3</td>\n",
              "      <td>...</td>\n",
              "      <td>1.197283e-07</td>\n",
              "      <td>1.999809e-14</td>\n",
              "      <td>3.360247e-13</td>\n",
              "      <td>1.407670e-14</td>\n",
              "      <td>0.000000e+00</td>\n",
              "      <td>0.000000e+00</td>\n",
              "      <td>0.000000e+00</td>\n",
              "      <td>0.000000e+00</td>\n",
              "      <td>0.000000e+00</td>\n",
              "      <td>0.000000e+00</td>\n",
              "    </tr>\n",
              "  </tbody>\n",
              "</table>\n",
              "<p>5 rows × 54 columns</p>\n",
              "</div>\n",
              "      <button class=\"colab-df-convert\" onclick=\"convertToInteractive('df-51b79d58-d2c3-405a-a997-1b88baf0281a')\"\n",
              "              title=\"Convert this dataframe to an interactive table.\"\n",
              "              style=\"display:none;\">\n",
              "        \n",
              "  <svg xmlns=\"http://www.w3.org/2000/svg\" height=\"24px\"viewBox=\"0 0 24 24\"\n",
              "       width=\"24px\">\n",
              "    <path d=\"M0 0h24v24H0V0z\" fill=\"none\"/>\n",
              "    <path d=\"M18.56 5.44l.94 2.06.94-2.06 2.06-.94-2.06-.94-.94-2.06-.94 2.06-2.06.94zm-11 1L8.5 8.5l.94-2.06 2.06-.94-2.06-.94L8.5 2.5l-.94 2.06-2.06.94zm10 10l.94 2.06.94-2.06 2.06-.94-2.06-.94-.94-2.06-.94 2.06-2.06.94z\"/><path d=\"M17.41 7.96l-1.37-1.37c-.4-.4-.92-.59-1.43-.59-.52 0-1.04.2-1.43.59L10.3 9.45l-7.72 7.72c-.78.78-.78 2.05 0 2.83L4 21.41c.39.39.9.59 1.41.59.51 0 1.02-.2 1.41-.59l7.78-7.78 2.81-2.81c.8-.78.8-2.07 0-2.86zM5.41 20L4 18.59l7.72-7.72 1.47 1.35L5.41 20z\"/>\n",
              "  </svg>\n",
              "      </button>\n",
              "      \n",
              "  <style>\n",
              "    .colab-df-container {\n",
              "      display:flex;\n",
              "      flex-wrap:wrap;\n",
              "      gap: 12px;\n",
              "    }\n",
              "\n",
              "    .colab-df-convert {\n",
              "      background-color: #E8F0FE;\n",
              "      border: none;\n",
              "      border-radius: 50%;\n",
              "      cursor: pointer;\n",
              "      display: none;\n",
              "      fill: #1967D2;\n",
              "      height: 32px;\n",
              "      padding: 0 0 0 0;\n",
              "      width: 32px;\n",
              "    }\n",
              "\n",
              "    .colab-df-convert:hover {\n",
              "      background-color: #E2EBFA;\n",
              "      box-shadow: 0px 1px 2px rgba(60, 64, 67, 0.3), 0px 1px 3px 1px rgba(60, 64, 67, 0.15);\n",
              "      fill: #174EA6;\n",
              "    }\n",
              "\n",
              "    [theme=dark] .colab-df-convert {\n",
              "      background-color: #3B4455;\n",
              "      fill: #D2E3FC;\n",
              "    }\n",
              "\n",
              "    [theme=dark] .colab-df-convert:hover {\n",
              "      background-color: #434B5C;\n",
              "      box-shadow: 0px 1px 3px 1px rgba(0, 0, 0, 0.15);\n",
              "      filter: drop-shadow(0px 1px 2px rgba(0, 0, 0, 0.3));\n",
              "      fill: #FFFFFF;\n",
              "    }\n",
              "  </style>\n",
              "\n",
              "      <script>\n",
              "        const buttonEl =\n",
              "          document.querySelector('#df-51b79d58-d2c3-405a-a997-1b88baf0281a button.colab-df-convert');\n",
              "        buttonEl.style.display =\n",
              "          google.colab.kernel.accessAllowed ? 'block' : 'none';\n",
              "\n",
              "        async function convertToInteractive(key) {\n",
              "          const element = document.querySelector('#df-51b79d58-d2c3-405a-a997-1b88baf0281a');\n",
              "          const dataTable =\n",
              "            await google.colab.kernel.invokeFunction('convertToInteractive',\n",
              "                                                     [key], {});\n",
              "          if (!dataTable) return;\n",
              "\n",
              "          const docLinkHtml = 'Like what you see? Visit the ' +\n",
              "            '<a target=\"_blank\" href=https://colab.research.google.com/notebooks/data_table.ipynb>data table notebook</a>'\n",
              "            + ' to learn more about interactive tables.';\n",
              "          element.innerHTML = '';\n",
              "          dataTable['output_type'] = 'display_data';\n",
              "          await google.colab.output.renderOutput(dataTable, element);\n",
              "          const docLink = document.createElement('div');\n",
              "          docLink.innerHTML = docLinkHtml;\n",
              "          element.appendChild(docLink);\n",
              "        }\n",
              "      </script>\n",
              "    </div>\n",
              "  </div>\n",
              "  "
            ]
          },
          "metadata": {},
          "execution_count": 5
        }
      ],
      "source": [
        "df_final_train.head()"
      ]
    },
    {
      "cell_type": "code",
      "execution_count": null,
      "metadata": {
        "id": "XRW7VZ4AHglc"
      },
      "outputs": [],
      "source": [
        "y_train = df_final_train.indicator_link\n",
        "y_test = df_final_test.indicator_link"
      ]
    },
    {
      "cell_type": "code",
      "execution_count": null,
      "metadata": {
        "id": "klIwdshKhVEh"
      },
      "outputs": [],
      "source": [
        "df_final_train=df_final_train.drop('indicator_link',axis=1)\n",
        "df_final_test=df_final_test.drop('indicator_link',axis=1)"
      ]
    },
    {
      "cell_type": "code",
      "execution_count": null,
      "metadata": {
        "colab": {
          "base_uri": "https://localhost:8080/",
          "height": 399
        },
        "id": "lIEc91uVHgli",
        "outputId": "e364a65b-f0d6-4c5d-aec5-f6d17e77f787"
      },
      "outputs": [
        {
          "output_type": "stream",
          "name": "stdout",
          "text": [
            "Estimators =  10 Train Score 0.9134734626246626 test Score 0.8698418194014671\n",
            "Estimators =  50 Train Score 0.9202517042475092 test Score 0.9018085650912813\n",
            "Estimators =  100 Train Score 0.9225489170241707 test Score 0.917456249080863\n",
            "Estimators =  250 Train Score 0.9229916897506927 test Score 0.9151985855907053\n",
            "Estimators =  450 Train Score 0.923543372120984 test Score 0.9159283654959068\n"
          ]
        },
        {
          "output_type": "execute_result",
          "data": {
            "text/plain": [
              "Text(0.5, 1.0, 'Estimators vs score at depth of 5')"
            ]
          },
          "metadata": {},
          "execution_count": 8
        },
        {
          "output_type": "display_data",
          "data": {
            "text/plain": [
              "<Figure size 432x288 with 1 Axes>"
            ],
            "image/png": "[encoded data removed]"
          },
          "metadata": {
            "needs_background": "light"
          }
        }
      ],
      "source": [
        "estimators = [10,50,100,250,450]\n",
        "train_scores = []\n",
        "test_scores = []\n",
        "for i in estimators:\n",
        "    clf = RandomForestClassifier(bootstrap=True, class_weight=None, criterion='gini',\n",
        "            max_depth=5, max_features='auto', max_leaf_nodes=None,\n",
        "            min_impurity_decrease=0.0,\n",
        "            min_samples_leaf=52, min_samples_split=120,\n",
        "            min_weight_fraction_leaf=0.0, n_estimators=i, n_jobs=-1,random_state=25,verbose=0,warm_start=False)\n",
        "    clf.fit(df_final_train,y_train)\n",
        "    train_sc = f1_score(y_train,clf.predict(df_final_train))\n",
        "    test_sc = f1_score(y_test,clf.predict(df_final_test))\n",
        "    test_scores.append(test_sc)\n",
        "    train_scores.append(train_sc)\n",
        "    print('Estimators = ',i,'Train Score',train_sc,'test Score',test_sc)\n",
        "plt.plot(estimators,train_scores,label='Train Score')\n",
        "plt.plot(estimators,test_scores,label='Test Score')\n",
        "plt.xlabel('Estimators')\n",
        "plt.ylabel('Score')\n",
        "plt.title('Estimators vs score at depth of 5')"
      ]
    },
    {
      "cell_type": "code",
      "execution_count": null,
      "metadata": {
        "id": "nZxhrTdQHglm",
        "colab": {
          "base_uri": "https://localhost:8080/",
          "height": 451
        },
        "outputId": "4c90b4ae-b4b6-499f-944b-bdc88c421bfe"
      },
      "outputs": [
        {
          "output_type": "stream",
          "name": "stdout",
          "text": [
            "depth =  3 Train Score 0.8859874293561507 test Score 0.8611105111979785\n",
            "depth =  9 Train Score 0.9588823655104346 test Score 0.9238249594813615\n",
            "depth =  11 Train Score 0.961099653564426 test Score 0.9248900393543363\n",
            "depth =  15 Train Score 0.963534859215579 test Score 0.9252507411846338\n",
            "depth =  20 Train Score 0.9635935629198207 test Score 0.9258183960279391\n",
            "depth =  35 Train Score 0.9637559104653287 test Score 0.9257676846336792\n",
            "depth =  50 Train Score 0.9637559104653287 test Score 0.9257676846336792\n",
            "depth =  70 Train Score 0.9637559104653287 test Score 0.9257676846336792\n",
            "depth =  130 Train Score 0.9637559104653287 test Score 0.9257676846336792\n"
          ]
        },
        {
          "output_type": "display_data",
          "data": {
            "text/plain": [
              "<Figure size 432x288 with 1 Axes>"
            ],
            "image/png": "[encoded data removed]"
          },
          "metadata": {
            "needs_background": "light"
          }
        }
      ],
      "source": [
        "depths = [3,9,11,15,20,35,50,70,130]\n",
        "train_scores = []\n",
        "test_scores = []\n",
        "for i in depths:\n",
        "    clf = RandomForestClassifier(bootstrap=True, class_weight=None, criterion='gini',\n",
        "            max_depth=i, max_features='auto', max_leaf_nodes=None,\n",
        "            min_impurity_decrease=0.0,\n",
        "            min_samples_leaf=52, min_samples_split=120,\n",
        "            min_weight_fraction_leaf=0.0, n_estimators=115, n_jobs=-1,random_state=25,verbose=0,warm_start=False)\n",
        "    clf.fit(df_final_train,y_train)\n",
        "    train_sc = f1_score(y_train,clf.predict(df_final_train))\n",
        "    test_sc = f1_score(y_test,clf.predict(df_final_test))\n",
        "    test_scores.append(test_sc)\n",
        "    train_scores.append(train_sc)\n",
        "    print('depth = ',i,'Train Score',train_sc,'test Score',test_sc)\n",
        "plt.plot(depths,train_scores,label='Train Score')\n",
        "plt.plot(depths,test_scores,label='Test Score')\n",
        "plt.xlabel('Depth')\n",
        "plt.ylabel('Score')\n",
        "plt.title('Depth vs score at depth of 5 at estimators = 115')\n",
        "plt.show()"
      ]
    },
    {
      "cell_type": "code",
      "execution_count": null,
      "metadata": {
        "id": "MrG1Lfl3Hglq",
        "colab": {
          "base_uri": "https://localhost:8080/"
        },
        "outputId": "87ddf41e-36db-4e1e-a27e-c0815b3eb77e"
      },
      "outputs": [
        {
          "output_type": "stream",
          "name": "stdout",
          "text": [
            "mean test scores [0.96213851 0.96183154 0.96037467 0.96207089 0.96285674]\n"
          ]
        }
      ],
      "source": [
        "from sklearn.metrics import f1_score\n",
        "from sklearn.ensemble import RandomForestClassifier\n",
        "from sklearn.model_selection import RandomizedSearchCV\n",
        "from scipy.stats import randint as sp_randint\n",
        "from scipy.stats import uniform\n",
        "\n",
        "param_dist = {\"n_estimators\":sp_randint(105,125),\n",
        "              \"max_depth\": sp_randint(10,15),\n",
        "              \"min_samples_split\": sp_randint(110,190),\n",
        "              \"min_samples_leaf\": sp_randint(25,65)}\n",
        "\n",
        "clf = RandomForestClassifier(random_state=25,n_jobs=-1)\n",
        "\n",
        "rf_random = RandomizedSearchCV(clf, param_distributions=param_dist,\n",
        "                                   n_iter=5,cv=10,scoring='f1',random_state=25,return_train_score=True)\n",
        "\n",
        "rf_random.fit(df_final_train,y_train)\n",
        "print('mean test scores',rf_random.cv_results_['mean_test_score'])\n",
        "#print('mean train scores',rf_random.cv_results_['mean_train_score'])"
      ]
    },
    {
      "cell_type": "code",
      "execution_count": null,
      "metadata": {
        "id": "ShisF04JoX5U",
        "colab": {
          "base_uri": "https://localhost:8080/"
        },
        "outputId": "ea074a35-e4cf-4860-816d-24a59c0ee02f"
      },
      "outputs": [
        {
          "output_type": "stream",
          "name": "stdout",
          "text": [
            "mean train scores [0.96314275 0.96254055 0.96088891 0.9627027  0.96395558]\n"
          ]
        }
      ],
      "source": [
        "print('mean train scores',rf_random.cv_results_['mean_train_score'])"
      ]
    },
    {
      "cell_type": "code",
      "execution_count": null,
      "metadata": {
        "id": "hme3j_diHglu",
        "colab": {
          "base_uri": "https://localhost:8080/"
        },
        "outputId": "694b3c17-c13b-498f-b46a-929d006f4054"
      },
      "outputs": [
        {
          "output_type": "stream",
          "name": "stdout",
          "text": [
            "RandomForestClassifier(max_depth=14, min_samples_leaf=28, min_samples_split=111,\n",
            "                       n_estimators=121, n_jobs=-1, random_state=25)\n"
          ]
        }
      ],
      "source": [
        "print(rf_random.best_estimator_)"
      ]
    },
    {
      "cell_type": "code",
      "execution_count": null,
      "metadata": {
        "id": "qu4KIEweHglx"
      },
      "outputs": [],
      "source": [
        "clf = RandomForestClassifier(bootstrap=True, class_weight=None, criterion='gini',\n",
        "            max_depth=14, max_features='auto', max_leaf_nodes=None,\n",
        "            min_impurity_decrease=0.0, #min_impurity_split=None,\n",
        "            min_samples_leaf=28, min_samples_split=111,\n",
        "            min_weight_fraction_leaf=0.0, n_estimators=121, n_jobs=-1,\n",
        "            oob_score=False, random_state=25, verbose=0, warm_start=False)"
      ]
    },
    {
      "cell_type": "code",
      "execution_count": null,
      "metadata": {
        "id": "Dax83GfLHgl1"
      },
      "outputs": [],
      "source": [
        "clf.fit(df_final_train,y_train)\n",
        "y_train_pred = clf.predict(df_final_train)\n",
        "y_test_pred = clf.predict(df_final_test)"
      ]
    },
    {
      "cell_type": "code",
      "execution_count": null,
      "metadata": {
        "id": "PTtAp1iTHgl4",
        "colab": {
          "base_uri": "https://localhost:8080/"
        },
        "outputId": "bbf48370-0e9b-451c-d3b9-45a331174986"
      },
      "outputs": [
        {
          "output_type": "stream",
          "name": "stdout",
          "text": [
            "Train f1 score 0.9636780303798496\n",
            "Test f1 score 0.9257234185733513\n"
          ]
        }
      ],
      "source": [
        "from sklearn.metrics import f1_score\n",
        "print('Train f1 score',f1_score(y_train,y_train_pred))\n",
        "print('Test f1 score',f1_score(y_test,y_test_pred))"
      ]
    },
    {
      "cell_type": "code",
      "execution_count": null,
      "metadata": {
        "id": "5XfUkZYQHgl7"
      },
      "outputs": [],
      "source": [
        "%matplotlib inline\n",
        "from sklearn.metrics import confusion_matrix\n",
        "def plot_confusion_matrix(test_y, predict_y):\n",
        "    C = confusion_matrix(test_y, predict_y)\n",
        "    \n",
        "    A =(((C.T)/(C.sum(axis=1))).T)\n",
        "    \n",
        "    B =(C/C.sum(axis=0))\n",
        "    plt.figure(figsize=(20,4))\n",
        "    \n",
        "    labels = [0,1]\n",
        "    # representing A in heatmap format\n",
        "    cmap=sns.light_palette(\"blue\")\n",
        "    plt.subplot(1, 3, 1)\n",
        "    sns.heatmap(C, annot=True, cmap=cmap, fmt=\".3f\", xticklabels=labels, yticklabels=labels)\n",
        "    plt.xlabel('Predicted Class')\n",
        "    plt.ylabel('Original Class')\n",
        "    plt.title(\"Confusion matrix\")\n",
        "    \n",
        "    plt.subplot(1, 3, 2)\n",
        "    sns.heatmap(B, annot=True, cmap=cmap, fmt=\".3f\", xticklabels=labels, yticklabels=labels)\n",
        "    plt.xlabel('Predicted Class')\n",
        "    plt.ylabel('Original Class')\n",
        "    plt.title(\"Precision matrix\")\n",
        "    \n",
        "    plt.subplot(1, 3, 3)\n",
        "    # representing B in heatmap format\n",
        "    sns.heatmap(A, annot=True, cmap=cmap, fmt=\".3f\", xticklabels=labels, yticklabels=labels)\n",
        "    plt.xlabel('Predicted Class')\n",
        "    plt.ylabel('Original Class')\n",
        "    plt.title(\"Recall matrix\")\n",
        "    \n",
        "    plt.show()"
      ]
    },
    {
      "cell_type": "code",
      "execution_count": null,
      "metadata": {
        "id": "s6t11dhTHgl-",
        "colab": {
          "base_uri": "https://localhost:8080/",
          "height": 608
        },
        "outputId": "f397bc14-0f04-4bc8-9bed-eee7c3d427bf"
      },
      "outputs": [
        {
          "output_type": "stream",
          "name": "stdout",
          "text": [
            "Train confusion_matrix\n"
          ]
        },
        {
          "output_type": "display_data",
          "data": {
            "text/plain": [
              "<Figure size 1440x288 with 6 Axes>"
            ],
            "image/png": "[encoded data removed]"
          },
          "metadata": {
            "needs_background": "light"
          }
        },
        {
          "output_type": "stream",
          "name": "stdout",
          "text": [
            "Test confusion_matrix\n"
          ]
        },
        {
          "output_type": "display_data",
          "data": {
            "text/plain": [
              "<Figure size 1440x288 with 6 Axes>"
            ],
            "image/png": "[encoded data removed]"
          },
          "metadata": {
            "needs_background": "light"
          }
        }
      ],
      "source": [
        "print('Train confusion_matrix')\n",
        "plot_confusion_matrix(y_train,y_train_pred)\n",
        "print('Test confusion_matrix')\n",
        "plot_confusion_matrix(y_test,y_test_pred)"
      ]
    },
    {
      "cell_type": "code",
      "execution_count": null,
      "metadata": {
        "id": "61TF-VLeHgmD",
        "colab": {
          "base_uri": "https://localhost:8080/",
          "height": 295
        },
        "outputId": "c55a2b3b-1394-4bfe-e555-46a8ae9d74bc"
      },
      "outputs": [
        {
          "output_type": "display_data",
          "data": {
            "text/plain": [
              "<Figure size 432x288 with 1 Axes>"
            ],
            "image/png": "[encoded data removed]"
          },
          "metadata": {
            "needs_background": "light"
          }
        }
      ],
      "source": [
        "from sklearn.metrics import roc_curve, auc\n",
        "fpr,tpr,ths = roc_curve(y_test,y_test_pred)\n",
        "auc_sc = auc(fpr, tpr)\n",
        "plt.plot(fpr, tpr, color='navy',label='ROC curve (area = %0.2f)' % auc_sc)\n",
        "plt.xlabel('False Positive Rate')\n",
        "plt.ylabel('True Positive Rate')\n",
        "plt.title('Receiver operating characteristic with test data')\n",
        "plt.legend()\n",
        "plt.show()"
      ]
    },
    {
      "cell_type": "code",
      "execution_count": null,
      "metadata": {
        "id": "HEZ7uvN6HgmK",
        "scrolled": false,
        "colab": {
          "base_uri": "https://localhost:8080/",
          "height": 730
        },
        "outputId": "2e49011a-d6f4-4eda-e01e-b3080ffb9301"
      },
      "outputs": [
        {
          "output_type": "display_data",
          "data": {
            "text/plain": [
              "<Figure size 720x864 with 1 Axes>"
            ],
            "image/png": "[encoded data removed]"
          },
          "metadata": {
            "needs_background": "light"
          }
        }
      ],
      "source": [
        "features = df_final_train.columns\n",
        "importances = clf.feature_importances_\n",
        "indices = (np.argsort(importances))[-25:]\n",
        "plt.figure(figsize=(10,12))\n",
        "plt.title('Feature Importances')\n",
        "plt.barh(range(len(indices)), importances[indices], color='r', align='center')\n",
        "plt.yticks(range(len(indices)), [features[i] for i in indices])\n",
        "plt.xlabel('Relative Importance')\n",
        "plt.show()"
      ]
    },
    {
      "cell_type": "markdown",
      "metadata": {
        "id": "xdHW32hcHgmN"
      },
      "source": [
        "# Assignments:\n",
        "\n",
        "1. Add another feature called  Preferential Attachment  with followers and followees data of vertex. you can check about Preferential Attachment in below link\n",
        "http://be.amazd.com/link-prediction/ <br>\n",
        "2. Add  feature called svd_dot. you can calculate svd_dot as Dot product between sourse node svd and destination node svd features.  you can read about this in below pdf \n",
        "https://storage.googleapis.com/kaggle-forum-message-attachments/2594/supervised_link_prediction.pdf<br>\n",
        "3. Tune hyperparameters for XG boost with all these features and check the error metric."
      ]
    },
    {
      "cell_type": "code",
      "execution_count": null,
      "metadata": {
        "id": "6pcO1bL8Cq6x"
      },
      "outputs": [],
      "source": [
        "train_graph = nx.read_edgelist('train_pos_after_eda.csv',delimiter=',',create_using=nx.DiGraph(),nodetype=int)\n",
        "test_graph = nx.read_edgelist('test_pos_after_eda.csv',delimiter=',',create_using=nx.DiGraph(),nodetype=int)"
      ]
    },
    {
      "cell_type": "code",
      "execution_count": null,
      "metadata": {
        "id": "gFRgbMlmCrCm"
      },
      "outputs": [],
      "source": [
        "from tqdm import tqdm\n",
        "###https://colab.research.google.com/drive/151MIcMDCjpYl8DKCEICnm4b4lkflLJRJ\n",
        "def feat(df,viz):\n",
        "  num_followers_s=[]\n",
        "  num_followees_s=[]\n",
        "  num_followers_d=[]\n",
        "  num_followees_d=[]\n",
        "  inter_followers=[]\n",
        "  inter_followees=[]\n",
        "  for q,ran in tqdm(df.iterrows()):\n",
        "    try:\n",
        "      s1=set(viz.predecessors(ran['source_node']))\n",
        "      s2=set(viz.successors(ran['source_node']))\n",
        "    except:\n",
        "      s1=set()\n",
        "      s2=set()\n",
        "    try:\n",
        "      d1=set(viz.predecessors(ran['destination_node']))\n",
        "      d2=set(viz.successors(ran['destination_node']))\n",
        "    except:\n",
        "      d1=set()\n",
        "      d2=set()\n",
        "    num_followers_s.append(len(s1))\n",
        "    num_followees_s.append(len(s2))\n",
        "    num_followers_d.append(len(d1))\n",
        "    num_followees_d.append(len(d2))\n",
        "    inter_followers.append(len(s1.intersection(d1)))\n",
        "    inter_followees.append(len(s2.intersection(d2)))\n",
        "  return num_followers_s,num_followees_s,num_followers_d,num_followees_d,inter_followers,inter_followees"
      ]
    },
    {
      "cell_type": "code",
      "execution_count": null,
      "metadata": {
        "id": "o1Mm7dMkCrH_",
        "colab": {
          "base_uri": "https://localhost:8080/"
        },
        "outputId": "f0117cd1-79a8-4350-f5b1-14e8be2a37d9"
      },
      "outputs": [
        {
          "output_type": "stream",
          "name": "stderr",
          "text": [
            "100002it [00:10, 9809.40it/s]\n",
            "50002it [00:03, 14064.44it/s]\n"
          ]
        }
      ],
      "source": [
        "tr_num_followers_s,tr_num_followees_s,tr_num_followers_d,tr_num_followees_d,tr_inter_followers,tr_inter_followees=feat(df_final_train,train_graph)\n",
        "test_num_followers_s,test_num_followees_s,test_num_followers_d,test_num_followees_d,test_inter_followers,test_inter_followees=feat(df_final_test,test_graph)"
      ]
    },
    {
      "cell_type": "code",
      "execution_count": null,
      "metadata": {
        "id": "0mU41u1rCrNB"
      },
      "outputs": [],
      "source": [
        "df_final_train['num_followers_d']=tr_num_followers_d\n",
        "df_final_test['num_followers_d']=test_num_followers_d"
      ]
    },
    {
      "cell_type": "code",
      "execution_count": null,
      "metadata": {
        "id": "Oy0PZ_P0arTc"
      },
      "outputs": [],
      "source": [
        "def preferential_attachment(df_fin):\n",
        "    ###https://in.coursera.org/lecture/python-social-network-analysis/preferential-attachment-model-abipd\n",
        "    link_pred_followees=[]\n",
        "    link_pred_followers=[]\n",
        "    link_pred_followees=df_fin['num_followees_s']*df_fin['num_followees_d']\n",
        "    link_pred_followers=df_fin['num_followers_s']*df_fin['num_followers_d']\n",
        "    return link_pred_followers,link_pred_followees"
      ]
    },
    {
      "cell_type": "code",
      "execution_count": null,
      "metadata": {
        "id": "KneKkvi162kl"
      },
      "outputs": [],
      "source": [
        "df_final_train[' link_pred_followers'], df_final_train['link_pred_followees']= preferential_attachment(df_final_train)\n",
        "\n",
        "df_final_test[' link_pred_followers'], df_final_test['link_pred_followees']= preferential_attachment(df_final_test)"
      ]
    },
    {
      "cell_type": "code",
      "execution_count": null,
      "metadata": {
        "id": "601PaWqKqtV6"
      },
      "outputs": [],
      "source": [
        "Adj = nx.adjacency_matrix(train_graph,nodelist=sorted(train_graph.nodes())).asfptype()"
      ]
    },
    {
      "cell_type": "code",
      "execution_count": null,
      "metadata": {
        "id": "c5ERi_u3rdFz"
      },
      "outputs": [],
      "source": [
        "sadj_col = sorted(train_graph.nodes())\n",
        "sadj_dict = { val:idx for idx,val in enumerate(sadj_col)}"
      ]
    },
    {
      "cell_type": "code",
      "execution_count": null,
      "metadata": {
        "id": "Lg65vIosqh05",
        "colab": {
          "base_uri": "https://localhost:8080/"
        },
        "outputId": "65ff02c0-c88b-41bc-f02a-310d2f7af880"
      },
      "outputs": [
        {
          "output_type": "stream",
          "name": "stdout",
          "text": [
            "U Shape (1780722, 6)\n",
            "V Shape (6, 1780722)\n",
            "s Shape (6,)\n"
          ]
        }
      ],
      "source": [
        "U, s, V = svds(Adj,k=6)\n",
        "print('U Shape',U.shape)\n",
        "print('V Shape',V.shape)\n",
        "print('s Shape',s.shape)"
      ]
    },
    {
      "cell_type": "code",
      "execution_count": null,
      "metadata": {
        "id": "KvJ7EgDpqhxf"
      },
      "outputs": [],
      "source": [
        "def svd(x, S):\n",
        "    try:\n",
        "        z = sadj_dict[x]\n",
        "        return S[z]\n",
        "    except:\n",
        "        return [0,0,0,0,0,0]"
      ]
    },
    {
      "cell_type": "code",
      "execution_count": null,
      "metadata": {
        "id": "CTvRNWtMO7yR",
        "colab": {
          "base_uri": "https://localhost:8080/"
        },
        "outputId": "28d089eb-616d-4f0e-c444-b8cade89adb6"
      },
      "outputs": [
        {
          "output_type": "execute_result",
          "data": {
            "text/plain": [
              "Index(['source_node', 'destination_node', 'jaccard_followers',\n",
              "       'jaccard_followees', 'cosine_followers', 'cosine_followees',\n",
              "       'num_followers_s', 'num_followees_s', 'num_followees_d',\n",
              "       'inter_followers', 'inter_followees', 'adar_index', 'follows_back',\n",
              "       'same_comp', 'shortest_path', 'weight_in', 'weight_out', 'weight_f1',\n",
              "       'weight_f2', 'weight_f3', 'weight_f4', 'page_rank_s', 'page_rank_d',\n",
              "       'katz_s', 'katz_d', 'hubs_s', 'hubs_d', 'authorities_s',\n",
              "       'authorities_d', 'svd_u_s_1', 'svd_u_s_2', 'svd_u_s_3', 'svd_u_s_4',\n",
              "       'svd_u_s_5', 'svd_u_s_6', 'svd_u_d_1', 'svd_u_d_2', 'svd_u_d_3',\n",
              "       'svd_u_d_4', 'svd_u_d_5', 'svd_u_d_6', 'svd_v_s_1', 'svd_v_s_2',\n",
              "       'svd_v_s_3', 'svd_v_s_4', 'svd_v_s_5', 'svd_v_s_6', 'svd_v_d_1',\n",
              "       'svd_v_d_2', 'svd_v_d_3', 'svd_v_d_4', 'svd_v_d_5', 'svd_v_d_6',\n",
              "       'num_followers_d', ' link_pred_followers', 'link_pred_followees'],\n",
              "      dtype='object')"
            ]
          },
          "metadata": {},
          "execution_count": 30
        }
      ],
      "source": [
        "df_final_train.columns"
      ]
    },
    {
      "cell_type": "code",
      "execution_count": null,
      "metadata": {
        "id": "fL8nOF2Fqh4c"
      },
      "outputs": [],
      "source": [
        "def dot_prod(df):\n",
        "    ###https://www.geeksforgeeks.org/numpy-dot-python/\n",
        "    ### https://storage.googleapis.com/kaggle-forum-message-attachments/2594/supervised_link_prediction.pdf\n",
        "    dot_u=[]\n",
        "    dot_v=[]\n",
        "    for index,ran in df.iterrows():\n",
        "        s1=svd(ran['source_node'],U)\n",
        "        d1=svd(ran['destination_node'],U)\n",
        "        s2=svd(ran['source_node'],V.T)\n",
        "        d2=svd(ran['destination_node'],V.T)\n",
        "        dot_u.append(np.dot(s1,d1))\n",
        "        dot_v.append(np.dot(s2,d2))\n",
        "        \n",
        "    return dot_u,dot_v      \n",
        "    \n",
        "         \n",
        "(df_final_train['dot_u'],df_final_train['dot_v'])=dot_prod(df_final_train)\n",
        "(df_final_test['dot_u'],df_final_test['dot_v'])=dot_prod(df_final_test)"
      ]
    },
    {
      "cell_type": "code",
      "execution_count": null,
      "metadata": {
        "id": "jdP3w50opugN",
        "colab": {
          "base_uri": "https://localhost:8080/"
        },
        "outputId": "44c3f6d5-6b67-4289-b4ff-c625f3b49450"
      },
      "outputs": [
        {
          "output_type": "execute_result",
          "data": {
            "text/plain": [
              "Index(['source_node', 'destination_node', 'jaccard_followers',\n",
              "       'jaccard_followees', 'cosine_followers', 'cosine_followees',\n",
              "       'num_followers_s', 'num_followees_s', 'num_followees_d',\n",
              "       'inter_followers', 'inter_followees', 'adar_index', 'follows_back',\n",
              "       'same_comp', 'shortest_path', 'weight_in', 'weight_out', 'weight_f1',\n",
              "       'weight_f2', 'weight_f3', 'weight_f4', 'page_rank_s', 'page_rank_d',\n",
              "       'katz_s', 'katz_d', 'hubs_s', 'hubs_d', 'authorities_s',\n",
              "       'authorities_d', 'svd_u_s_1', 'svd_u_s_2', 'svd_u_s_3', 'svd_u_s_4',\n",
              "       'svd_u_s_5', 'svd_u_s_6', 'svd_u_d_1', 'svd_u_d_2', 'svd_u_d_3',\n",
              "       'svd_u_d_4', 'svd_u_d_5', 'svd_u_d_6', 'svd_v_s_1', 'svd_v_s_2',\n",
              "       'svd_v_s_3', 'svd_v_s_4', 'svd_v_s_5', 'svd_v_s_6', 'svd_v_d_1',\n",
              "       'svd_v_d_2', 'svd_v_d_3', 'svd_v_d_4', 'svd_v_d_5', 'svd_v_d_6',\n",
              "       'num_followers_d', ' link_pred_followers', 'link_pred_followees',\n",
              "       'dot_u', 'dot_v'],\n",
              "      dtype='object')"
            ]
          },
          "metadata": {},
          "execution_count": 32
        }
      ],
      "source": [
        "df_final_train.columns"
      ]
    },
    {
      "cell_type": "code",
      "execution_count": null,
      "metadata": {
        "id": "yHX6x0yQp_lE"
      },
      "outputs": [],
      "source": [
        "df_final_train.drop(['source_node', 'destination_node'],axis=1,inplace=True)\n",
        "df_final_test.drop(['source_node', 'destination_node'],axis=1,inplace=True)"
      ]
    },
    {
      "cell_type": "code",
      "execution_count": null,
      "metadata": {
        "id": "Yg_0WQcuqHuM",
        "colab": {
          "base_uri": "https://localhost:8080/"
        },
        "outputId": "71c25c08-2bbf-417f-d046-4f46a02b9d38"
      },
      "outputs": [
        {
          "output_type": "execute_result",
          "data": {
            "text/plain": [
              "Index(['jaccard_followers', 'jaccard_followees', 'cosine_followers',\n",
              "       'cosine_followees', 'num_followers_s', 'num_followees_s',\n",
              "       'num_followees_d', 'inter_followers', 'inter_followees', 'adar_index',\n",
              "       'follows_back', 'same_comp', 'shortest_path', 'weight_in', 'weight_out',\n",
              "       'weight_f1', 'weight_f2', 'weight_f3', 'weight_f4', 'page_rank_s',\n",
              "       'page_rank_d', 'katz_s', 'katz_d', 'hubs_s', 'hubs_d', 'authorities_s',\n",
              "       'authorities_d', 'svd_u_s_1', 'svd_u_s_2', 'svd_u_s_3', 'svd_u_s_4',\n",
              "       'svd_u_s_5', 'svd_u_s_6', 'svd_u_d_1', 'svd_u_d_2', 'svd_u_d_3',\n",
              "       'svd_u_d_4', 'svd_u_d_5', 'svd_u_d_6', 'svd_v_s_1', 'svd_v_s_2',\n",
              "       'svd_v_s_3', 'svd_v_s_4', 'svd_v_s_5', 'svd_v_s_6', 'svd_v_d_1',\n",
              "       'svd_v_d_2', 'svd_v_d_3', 'svd_v_d_4', 'svd_v_d_5', 'svd_v_d_6',\n",
              "       'num_followers_d', ' link_pred_followers', 'link_pred_followees',\n",
              "       'dot_u', 'dot_v'],\n",
              "      dtype='object')"
            ]
          },
          "metadata": {},
          "execution_count": 34
        }
      ],
      "source": [
        "df_final_train.columns"
      ]
    },
    {
      "cell_type": "code",
      "execution_count": null,
      "metadata": {
        "id": "LOJ-WioqqUdq",
        "colab": {
          "base_uri": "https://localhost:8080/"
        },
        "outputId": "6d60faea-40ef-4e02-ba32-b2200eb95d9d"
      },
      "outputs": [
        {
          "output_type": "stream",
          "name": "stdout",
          "text": [
            "mean test scores [0.97800923 0.97994223 0.97307308]\n",
            "mean train scores [0.98788082 0.99413852 0.97810217]\n"
          ]
        }
      ],
      "source": [
        "from sklearn.metrics import f1_score\n",
        "from sklearn.model_selection import RandomizedSearchCV\n",
        "from scipy.stats import randint as sp_randint\n",
        "from scipy.stats import uniform\n",
        "from xgboost import XGBClassifier\n",
        "\n",
        "###https://www.projectpro.io/recipes/use-xgboost-classifier-and-regressor-in-python\n",
        "\n",
        "param = {'min_child_weight': [1, 5, 10],\n",
        "        'max_depth': [15,20,30,40],\n",
        "        'learning_rate':[0.03,0.05,0.1,0.15,0.2],\n",
        "        'n_estimators' :[20,50,100,150],\n",
        "        'subsample': [0.6, 0.8, 1.0],\n",
        "        'colsample_bytree': [0.6, 0.8, 1.0],\n",
        "        'gamma': [1, 1.5, 2, 5]}\n",
        "\n",
        "clf =  XGBClassifier(random_state=25,n_jobs=-1)\n",
        "\n",
        "rnd_src = RandomizedSearchCV(clf, param_distributions=param,n_iter=3,\n",
        "                             cv=3,scoring='f1',random_state=25,return_train_score=True)\n",
        "\n",
        "rnd_src.fit(df_final_train,y_train)\n",
        "print('mean test scores',rnd_src.cv_results_['mean_test_score'])\n",
        "print('mean train scores',rnd_src.cv_results_['mean_train_score'])"
      ]
    },
    {
      "cell_type": "code",
      "execution_count": null,
      "metadata": {
        "id": "KTGExOBjrVF1",
        "colab": {
          "base_uri": "https://localhost:8080/"
        },
        "outputId": "571b0f36-058f-4c6d-e093-89f86e0d1779"
      },
      "outputs": [
        {
          "output_type": "stream",
          "name": "stdout",
          "text": [
            "Train f1 score 0.9950570342205324\n",
            "Test f1 score 0.9311120543293718\n"
          ]
        }
      ],
      "source": [
        "clf1=rnd_src.best_estimator_\n",
        "clf1.fit(df_final_train,y_train)\n",
        "\n",
        "y_train_pred = clf1.predict(df_final_train)\n",
        "y_test_pred = clf1.predict(df_final_test)\n",
        "\n",
        "print('Train f1 score',f1_score(y_train,y_train_pred))\n",
        "print('Test f1 score',f1_score(y_test,y_test_pred))"
      ]
    },
    {
      "cell_type": "code",
      "execution_count": null,
      "metadata": {
        "id": "c2fjqjdCrVI7"
      },
      "outputs": [],
      "source": [
        "from sklearn.metrics import confusion_matrix\n",
        "def plot_confusion_matrix(test_y, predict_y):\n",
        "    C = confusion_matrix(test_y, predict_y)\n",
        "    \n",
        "    A =(((C.T)/(C.sum(axis=1))).T)\n",
        "    \n",
        "    B =(C/C.sum(axis=0))\n",
        "    plt.figure(figsize=(20,4))\n",
        "    \n",
        "    labels = [0,1]\n",
        "    # representing A in heatmap format\n",
        "    cmap=sns.light_palette(\"blue\")\n",
        "    plt.subplot(1, 3, 1)\n",
        "    sns.heatmap(C, annot=True, cmap=cmap, fmt=\".3f\", xticklabels=labels, yticklabels=labels)\n",
        "    plt.xlabel('Predicted Class')\n",
        "    plt.ylabel('Original Class')\n",
        "    plt.title(\"Confusion matrix\")\n",
        "    \n",
        "    plt.subplot(1, 3, 2)\n",
        "    sns.heatmap(B, annot=True, cmap=cmap, fmt=\".3f\", xticklabels=labels, yticklabels=labels)\n",
        "    plt.xlabel('Predicted Class')\n",
        "    plt.ylabel('Original Class')\n",
        "    plt.title(\"Precision matrix\")\n",
        "    \n",
        "    plt.subplot(1, 3, 3)\n",
        "    # representing B in heatmap format\n",
        "    sns.heatmap(A, annot=True, cmap=cmap, fmt=\".3f\", xticklabels=labels, yticklabels=labels)\n",
        "    plt.xlabel('Predicted Class')\n",
        "    plt.ylabel('Original Class')\n",
        "    plt.title(\"Recall matrix\")\n",
        "    \n",
        "    plt.show()"
      ]
    },
    {
      "cell_type": "code",
      "execution_count": null,
      "metadata": {
        "id": "MSKImFKbrVLz",
        "colab": {
          "base_uri": "https://localhost:8080/",
          "height": 608
        },
        "outputId": "f412fd4f-9445-4914-b5f6-e8b120521ae8"
      },
      "outputs": [
        {
          "output_type": "stream",
          "name": "stdout",
          "text": [
            "Train confusion_matrix\n"
          ]
        },
        {
          "output_type": "display_data",
          "data": {
            "text/plain": [
              "<Figure size 1440x288 with 6 Axes>"
            ],
            "image/png": "[encoded data removed]"
          },
          "metadata": {
            "needs_background": "light"
          }
        },
        {
          "output_type": "stream",
          "name": "stdout",
          "text": [
            "Test confusion_matrix\n"
          ]
        },
        {
          "output_type": "display_data",
          "data": {
            "text/plain": [
              "<Figure size 1440x288 with 6 Axes>"
            ],
            "image/png": "[encoded data removed]"
          },
          "metadata": {
            "needs_background": "light"
          }
        }
      ],
      "source": [
        "print('Train confusion_matrix')\n",
        "plot_confusion_matrix(y_train,y_train_pred)\n",
        "print('Test confusion_matrix')\n",
        "plot_confusion_matrix(y_test,y_test_pred)"
      ]
    },
    {
      "cell_type": "code",
      "execution_count": null,
      "metadata": {
        "id": "DuTVAzI4rVOm",
        "colab": {
          "base_uri": "https://localhost:8080/",
          "height": 295
        },
        "outputId": "73dfe533-d4ac-439d-f541-6c87a7ca1c69"
      },
      "outputs": [
        {
          "output_type": "display_data",
          "data": {
            "text/plain": [
              "<Figure size 432x288 with 1 Axes>"
            ],
            "image/png": "[encoded data removed]"
          },
          "metadata": {
            "needs_background": "light"
          }
        }
      ],
      "source": [
        "from sklearn.metrics import roc_curve, auc\n",
        "fpr,tpr,ths = roc_curve(y_test,y_test_pred)\n",
        "auc_sc = auc(fpr, tpr)\n",
        "plt.plot(fpr, tpr, color='navy',label='ROC curve (area = %0.2f)' % auc_sc)\n",
        "plt.xlabel('False Positive Rate')\n",
        "plt.ylabel('True Positive Rate')\n",
        "plt.title('Receiver operating characteristic with test data')\n",
        "plt.legend()\n",
        "plt.show()"
      ]
    },
    {
      "cell_type": "code",
      "execution_count": null,
      "metadata": {
        "id": "Lu3xO4cPr9QW",
        "colab": {
          "base_uri": "https://localhost:8080/",
          "height": 696
        },
        "outputId": "4698bc10-3fbc-4059-ed93-d9b5b4d60022"
      },
      "outputs": [
        {
          "output_type": "display_data",
          "data": {
            "text/plain": [
              "<Figure size 1440x864 with 1 Axes>"
            ],
            "image/png": "[encoded data removed]"
          },
          "metadata": {
            "needs_background": "light"
          }
        }
      ],
      "source": [
        "features = df_final_train.columns\n",
        "importances = clf1.feature_importances_\n",
        "indices = (np.argsort(importances))[-25:]\n",
        "plt.figure(figsize=(20,12))\n",
        "plt.title('Feature Importances')\n",
        "plt.barh(range(len(indices)), importances[indices], color='r', align='center')\n",
        "plt.yticks(range(len(indices)), [features[i] for i in indices])\n",
        "plt.xlabel('Relative Importance')\n",
        "plt.show()"
      ]
    },
    {
      "cell_type": "code",
      "execution_count": null,
      "metadata": {
        "id": "Eilm7_uW0uCg",
        "colab": {
          "base_uri": "https://localhost:8080/"
        },
        "outputId": "028b7218-1de2-4151-c011-d4e3052eab22"
      },
      "outputs": [
        {
          "output_type": "stream",
          "name": "stdout",
          "text": [
            "+---------+----------------+---------------+\n",
            "|  model  | train_f1_Score | test_f1_score |\n",
            "+---------+----------------+---------------+\n",
            "| XGBoost |     0.995      |     0.931     |\n",
            "+---------+----------------+---------------+\n"
          ]
        }
      ],
      "source": [
        "from prettytable import PrettyTable\n",
        "t = PrettyTable()\n",
        "t.field_names=[\"model\",\"train_f1_Score\",\"test_f1_score\"]\n",
        "t.add_row([\"XGBoost\",\"0.995\",\"0.931\"])\n",
        "print(t)"
      ]
    },
    {
      "cell_type": "markdown",
      "source": [
        "# Observations:\n",
        "\n",
        "\n",
        "1.   When actual prediction takes place in the xgboost classifier, the f1 score for test is 0.931.\n",
        "2.   The f1 score for train is 0.995.\n",
        "3.   Some of the Best features that were extracted are:\n",
        "*   inter_followers\n",
        "*   follows_back\n",
        "*   cosine_followers\n",
        "*   jaccard_followees\n",
        "4.   Area under ROC curve is coming out to be 0.93\n",
        "\n",
        "\n",
        "\n",
        "\n"
      ],
      "metadata": {
        "id": "LCVEghJz5-tx"
      }
    }
  ],
  "metadata": {
    "colab": {
      "provenance": []
    },
    "kernelspec": {
      "display_name": "Python 3",
      "language": "python",
      "name": "python3"
    }
  },
  "nbformat": 4,
  "nbformat_minor": 0
}