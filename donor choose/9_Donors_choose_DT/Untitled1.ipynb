{
 "cells": [
  {
   "cell_type": "code",
   "execution_count": 1,
   "metadata": {},
   "outputs": [],
   "source": [
    "import numpy as np\n",
    "import pandas as pd\n",
    "from sklearn.datasets import load_boston\n",
    "from sklearn.metrics import mean_squared_error\n",
    "import random\n",
    "from sklearn.tree import DecisionTreeRegressor  \n",
    "from operator import add\n",
    "from scipy.sparse import hstack"
   ]
  },
  {
   "cell_type": "code",
   "execution_count": 2,
   "metadata": {},
   "outputs": [],
   "source": [
    "boston = load_boston()\n",
    "x=boston.data #independent variables\n",
    "y=boston.target #target variable\n",
    "x=pd.DataFrame(x)"
   ]
  },
  {
   "cell_type": "code",
   "execution_count": 22,
   "metadata": {},
   "outputs": [],
   "source": [
    "def bagging(x,y):\n",
    "    index=[] #used for storing indices of points used for fitting\n",
    "    prediction_model=[] # used for storing prediction of each model\n",
    "    oob_pred=[]\n",
    "    pred=[0]* 506\n",
    "    for i in range(0,30):\n",
    "        k=np.random.choice(506,size=303,replace=False) # generating 60% of points randomly\n",
    "        p=np.random.choice(k,size=203,replace=True) #  generating 40% of points randomly \n",
    "        rs=np.hstack((k,p))                         # from already generated 60% points\n",
    "        index.append(rs)\n",
    "        data=x.iloc[rs]\n",
    "        col=random.randint(3,13) #randomy selecting the columns based on randint generator\n",
    "        x_data=data.sample(col, axis=1)\n",
    "        y_data=y[rs]\n",
    "        model=DecisionTreeRegressor()\n",
    "        model.fit(x_data,y_data) # fitting the model\n",
    "        p=model.predict(x[x_data.columns]) \n",
    "        prediction_model.append(p)\n",
    "        pred=list( map(add, pred, p) )\n",
    "    prediction= [x / 30 for x in pred] \n",
    "    mse=mean_squared_error(y,prediction) # calculating mean score error\n",
    "    \n",
    "    for j in range(506):\n",
    "        count=0\n",
    "        value=0\n",
    "        for k in range(30):\n",
    "            if j not in index[k]: # checking whether the point  it is used for fitting\n",
    "                value=value+prediction_model[k][j] # if not it is used for oob score calculation\n",
    "                count=count+1\n",
    "        oob_pred.append(value/count)\n",
    "    oob=mean_squared_error(y,oob_pred) # oob score calculation\n",
    "    return mse,oob,x_data,y_data"
   ]
  },
  {
   "cell_type": "code",
   "execution_count": 23,
   "metadata": {},
   "outputs": [
    {
     "name": "stdout",
     "output_type": "stream",
     "text": [
      "(506,)\n",
      "(506, 11)\n"
     ]
    }
   ],
   "source": [
    "mse,oob,xdat,ydat=bagging(x,y)\n",
    "\n",
    "print(ydat.shape)\n",
    "print(xdat.shape)"
   ]
  },
  {
   "cell_type": "code",
   "execution_count": null,
   "metadata": {},
   "outputs": [],
   "source": []
  },
  {
   "cell_type": "code",
   "execution_count": null,
   "metadata": {},
   "outputs": [],
   "source": []
  },
  {
   "cell_type": "code",
   "execution_count": null,
   "metadata": {},
   "outputs": [],
   "source": []
  },
  {
   "cell_type": "code",
   "execution_count": null,
   "metadata": {},
   "outputs": [],
   "source": [
    "selecting_rows =np.random.choice(303,size=303,replace=False)  ### https://www.geeksforgeeks.org/how-to-randomly-select-elements-of-an-array-with-numpy-in-python/\n",
    "    replacing_rows = np.random.choice(selecting_rows,size=203,replace=True)\n",
    "   \n",
    "    selecting_columns=random.sample(range(3,13),6)\n",
    "    sample_data = x[selecting_rows[:,None],selecting_columns]\n",
    "    target_of_sample_data = y[selecting_rows]\n",
    "    replicated_sample_data = sample_data[replacing_rows]\n",
    "    target_replicated_sample_data = target_of_sample_data[replacing_rows]\n",
    "    \n",
    "    final_sample_data = np.vstack([sample_data,replicated_sample_data])\n",
    "    final_target_data = np.vstack([target_of_sample_data.reshape(-1,1),target_replicated_sample_data.reshape(-1,1)])\n",
    "    \n",
    "    return final_sample_data,final_target_data,selecting_rows,selecting_columns"
   ]
  },
  {
   "cell_type": "code",
   "execution_count": null,
   "metadata": {},
   "outputs": [],
   "source": [
    "list_input_data = np.array(list_input_data)\n",
    "print(list_input_data.shape)\n",
    "list_output_data = np.array(list_input_data)\n",
    "list_output_data.shape\n",
    "y"
   ]
  },
  {
   "cell_type": "code",
   "execution_count": null,
   "metadata": {},
   "outputs": [],
   "source": [
    "from sklearn.tree import DecisionTreeRegressor \n",
    "from sklearn.metrics import mean_squared_error\n",
    "from operator import add\n",
    "prediction=[]\n",
    "predt = [0]*506\n",
    "nsamples, nx, ny = list_input_data.shape\n",
    "d2_train_dataset = list_input_data.reshape((nsamples,nx*ny))\n",
    "print(d2_train_dataset.shape)\n",
    "nsamples, nx, ny = list_output_data.shape\n",
    "d2_test_dataset = list_output_data.reshape((nsamples,nx*ny))\n",
    "print(d2_test_dataset.shape)\n",
    "#nsamples, nx, ny = y.shape\n",
    "#d2_y = y.reshape((nsamples,nx*ny))\n",
    "for i in range(0,30):\n",
    "    model = DecisionTreeRegressor()\n",
    "    model.fit(d2_train_dataset,d2_test_dataset)\n",
    "    pred =model.predict(d2_train_dataset)\n",
    "    prediction.append(pred)\n",
    "    predt=list( map(add, predt, pred) )\n",
    "yprediction= [x / 30 for x in predt]\n",
    "yprediction    \n",
    "#MSE = mean_squared_error(y,yprediction)\n",
    "#MSE\n",
    "    "
   ]
  }
 ],
 "metadata": {
  "kernelspec": {
   "display_name": "Python 3",
   "language": "python",
   "name": "python3"
  },
  "language_info": {
   "codemirror_mode": {
    "name": "ipython",
    "version": 3
   },
   "file_extension": ".py",
   "mimetype": "text/x-python",
   "name": "python",
   "nbconvert_exporter": "python",
   "pygments_lexer": "ipython3",
   "version": "3.6.5"
  }
 },
 "nbformat": 4,
 "nbformat_minor": 2
}
