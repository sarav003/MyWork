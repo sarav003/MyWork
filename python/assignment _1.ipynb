{
 "cells": [
  {
   "cell_type": "markdown",
   "metadata": {},
   "source": [
    "## Given two matrices find the multiplication of the matrices."
   ]
  },
  {
   "cell_type": "code",
   "execution_count": 1,
   "metadata": {
    "scrolled": true
   },
   "outputs": [
    {
     "name": "stdout",
     "output_type": "stream",
     "text": [
      "enter number of rows in A:2\n",
      "enter number of columns in A:2\n",
      "enter number of rows in B:2\n",
      "enter number of columns in B:5\n",
      "enter elements in A:\n",
      "1\n",
      "2\n",
      "3\n",
      "4\n",
      "A:\n",
      "1  2  \n",
      "3  4  \n",
      "enter elements in B:\n",
      "1\n",
      "2\n",
      "3\n",
      "4\n",
      "5\n",
      "5\n",
      "6\n",
      "7\n",
      "8\n",
      "9\n",
      "B:\n",
      "1  2  3  4  5  \n",
      "5  6  7  8  9  \n",
      "A*B:\n",
      "11 14 17 20 23 \n",
      "23 30 37 44 51 \n"
     ]
    }
   ],
   "source": [
    "f = int(input(\"enter number of rows in A:\")) #get no. of columns in matrix A\n",
    "g = int(input(\"enter number of columns in A:\")) #get no. of columns in matrix A\n",
    "h = int(input(\"enter number of rows in B:\")) #get no. of rows in matrix B\n",
    "o = int(input(\"enter number of columns in B:\")) #get no. of columns in matrix B\n",
    "\n",
    "if g!=h:  \n",
    "    print(\"Not Possible!!\")\n",
    "\n",
    "result=[[0 for i in range(o)] for j in range(f)]\n",
    "    \n",
    "print(\"enter elements in A:\")\n",
    "A=[[int(input()) for i in range(g)] for j in range(f)]\n",
    "print(\"A:\")\n",
    "for i in range(f): \n",
    "    for j in range(g):\n",
    "        print(format(A[i][j],\"<3\"),end=\"\")\n",
    "    print()\n",
    "    \n",
    "print(\"enter elements in B:\")\n",
    "B=[[int(input()) for i in range(o)] for j in range(h)]\n",
    "print(\"B:\")\n",
    "for i in range(h):\n",
    "    for j in range(o):\n",
    "        print(format(B[i][j],\"<3\"),end=\"\")\n",
    "    print()\n",
    "    \n",
    "for i in range(f):\n",
    "    for j in range(o):\n",
    "        for l in range(g):\n",
    "            result[i][j] = result[i][j] + A[i][l] * B[l][j]\n",
    "            \n",
    "print(\"A*B:\")\n",
    "for i in range(f):\n",
    "    for j in range(o):\n",
    "        print(format(result[i][j],\"<3\"),end=\"\")\n",
    "    print()"
   ]
  },
  {
   "cell_type": "markdown",
   "metadata": {},
   "source": [
    "## selecting a number randomly with probability proportional to its magnitude."
   ]
  },
  {
   "cell_type": "code",
   "execution_count": 2,
   "metadata": {},
   "outputs": [
    {
     "name": "stdout",
     "output_type": "stream",
     "text": [
      "enter the starting number of the range:100\n",
      "enter the ending number of the range:200\n",
      "enter the range:15\n",
      "[142, 178, 145, 155, 137, 119, 106, 196, 132, 182, 151, 185, 162, 160, 166]\n",
      "f(196)>f(185)>f(182)>f(178)>f(166)>f(162)>f(160)>f(155)>f(151)>f(145)>f(142)>f(137)>f(132)>f(119)>f(106)>"
     ]
    }
   ],
   "source": [
    "import random as rd\n",
    "first=int(input(\"enter the starting number of the range:\"))\n",
    "last=int(input(\"enter the ending number of the range:\"))\n",
    "rg=int(input(\"enter the range:\"))\n",
    "Rn = [rd.randint(first,last) for i in range(rg)]\n",
    "print(Rn)\n",
    "Rn.sort(reverse=True)\n",
    "for i in range(len(Rn)):\n",
    "    print(\"f({})\".format(Rn[i]),end=\">\")\n"
   ]
  },
  {
   "cell_type": "markdown",
   "metadata": {},
   "source": [
    "## Replace the digits in the string with #"
   ]
  },
  {
   "cell_type": "code",
   "execution_count": 80,
   "metadata": {},
   "outputs": [
    {
     "name": "stdout",
     "output_type": "stream",
     "text": [
      "enter the string in which the digit is changed:a@2$56$ghT\n",
      "a@#$##$ghT\n"
     ]
    }
   ],
   "source": [
    "import re\n",
    "str=input(\"enter the string in which the digit is changed:\")\n",
    "str1 = re.sub(r'[0-9]',\"#\",str)\n",
    "print(str1)\n"
   ]
  },
  {
   "cell_type": "markdown",
   "metadata": {},
   "source": [
    "## Students marks dashboard"
   ]
  },
  {
   "cell_type": "code",
   "execution_count": 3,
   "metadata": {},
   "outputs": [
    {
     "name": "stdout",
     "output_type": "stream",
     "text": [
      "top 5: [('stud4', '99'), ('stud9', '90'), ('stud3', '72'), ('stud2', '69'), ('stud8', '63')]\n",
      "last 5: [('stud10', '12'), ('stud6', '13'), ('stud5', '23'), ('stud1', '34'), ('stud7', '54')]\n",
      "between 25 to 75: [('stud5', '23'), ('stud1', '34'), ('stud7', '54'), ('stud8', '63'), ('stud2', '69')]\n"
     ]
    }
   ],
   "source": [
    "lst=['stud1','stud2','stud3','stud4','stud5','stud6','stud7','stud8','stud9','stud10']\n",
    "mark=['34','69','72','99','23','13','54','63','90','12']\n",
    "\n",
    "import math\n",
    "dash=list(zip(lst,mark))\n",
    "dash.sort(key=lambda x:x[1],reverse=True)\n",
    "print(\"top 5:\",dash[:5])\n",
    "dash.sort(key=lambda x:x[1])\n",
    "print(\"last 5:\",dash[:5])\n",
    "\n",
    "tfp_25 = math.ceil(len(dash) // 4)\n",
    "sfp_75= math.floor(3 * len(dash) // 4)\n",
    "students_within_25_and_75 = dash[tfp_25:sfp_75]\n",
    " \n",
    "print(\"between 25 to 75:\",students_within_25_and_75)"
   ]
  },
  {
   "cell_type": "markdown",
   "metadata": {},
   "source": [
    "## Find the closest points: "
   ]
  },
  {
   "cell_type": "code",
   "execution_count": 5,
   "metadata": {},
   "outputs": [
    {
     "name": "stdout",
     "output_type": "stream",
     "text": [
      "[0.06512516333438509, 0.14189705460416438, 0.9272952180016123, 1.2021004241368467, 1.4288992721907328]\n",
      "points closer to P :\n",
      "(6, -7)\n",
      "(1, -1)\n",
      "(6, 0)\n",
      "(-5, -8)\n",
      "(-1, -1)\n"
     ]
    }
   ],
   "source": [
    "import math\n",
    "P = (3,-4)\n",
    "S = [(1,2), (3,4),(-1,1),(6,-7),(0,6),(-5,-8),(-1,-1),(6,0),(1,-1)]\n",
    "distance = {}\n",
    "for x in range(len(S)):\n",
    "    distance[S[x]] = math.acos(((S[x][0]*P[0])+(S[x][1]*P[1]))/((math.sqrt((S[x][0]**2)+(S[x][1]**2))) *(math.sqrt((P[0]**2)+(P[1]**2)))))\n",
    "dist = sorted(distance.values())[:5]\n",
    "print(dist)\n",
    "print(\"points closer to P :\")\n",
    "for x in dist:\n",
    "    print(format(list(distance.keys())[list(distance.values()).index(x)]))        \n",
    "    \n",
    "                      \n"
   ]
  },
  {
   "cell_type": "markdown",
   "metadata": {},
   "source": [
    "## Find Which line separates oranges and apples:"
   ]
  },
  {
   "cell_type": "code",
   "execution_count": 40,
   "metadata": {},
   "outputs": [
    {
     "name": "stdout",
     "output_type": "stream",
     "text": [
      "1\n",
      "1\n",
      "YES\n",
      "2\n",
      "2\n",
      "NO\n",
      "1\n",
      "2\n",
      "NO\n",
      "1\n",
      "1\n",
      "YES\n"
     ]
    }
   ],
   "source": [
    "\n",
    "red=[(1,1),(2,1),(4,2),(2,4),(-1,4)]\n",
    "blue=[(-2,-1),(-1,-2),(-3,-2),(-3,-1),(1,-3)]\n",
    "lines=[\"1x+1y+0\",\"1x-1y+0\",\"1x+0y-3\",\"0x+1y-0.5\"]\n",
    "import re\n",
    "for i in lines:\n",
    "    BL=[]\n",
    "    RD=[]\n",
    "    l=re.findall('[0-9\\+\\-\\.]+',i)\n",
    "    for x in blue:\n",
    "        lineblue=float(l[0])*(x[0])+float(l[1])*(x[1])+float(l[2])\n",
    "        if lineblue > 0:   #https://stackoverflow.com/questions/57188227/to-find-whether-a-given-line-equation-is-able-to-separate-the-two-lists-of-poi\n",
    "            BL.append(0)\n",
    "        else:\n",
    "            BL.append(1)\n",
    "    lr=len(set(BL))\n",
    "    print(lr)\n",
    "    for x in red:\n",
    "        linered=float(l[0])*(x[0])+float(l[1])*(x[1])+float(l[2])\n",
    "        if linered > 0:\n",
    "            RD.append(0)\n",
    "        else:\n",
    "            RD.append(1)        \n",
    "    lb=len(set(RD))\n",
    "    print(lb)\n",
    "    if lr == 1 and lb == 1:\n",
    "        print(\"YES\")\n",
    "    else:\n",
    "        print(\"NO\")"
   ]
  },
  {
   "cell_type": "markdown",
   "metadata": {},
   "source": [
    "## Filling the missing values in the specified formate"
   ]
  },
  {
   "cell_type": "code",
   "execution_count": 60,
   "metadata": {},
   "outputs": [
    {
     "name": "stdout",
     "output_type": "stream",
     "text": [
      "[10, 10, 12, 12, 12, 12, 4, 4, 4]\n"
     ]
    }
   ],
   "source": [
    "input_list = ['-','-','30','-','-','-','50','-','-']\n",
    "cnt = 0\n",
    "output_list = input_list\n",
    "c = 0\n",
    "prev = 0\n",
    "prev_val = 0\n",
    "prev_start_range = 0\n",
    "prev_end_range = 0\n",
    "#output_list = []\n",
    "\n",
    "for i in input_list:\n",
    "    cnt = cnt+1\n",
    "    if i == '-' and cnt != len(input_list):\n",
    "        c = c+1\n",
    "    else:\n",
    "        c = c+1\n",
    "        if i == '-': val = (prev_val)/c\n",
    "        else: val = (int(i)+prev_val)/c\n",
    "        if prev_end_range == 0:\n",
    "            start_range = 0\n",
    "            end_range = c\n",
    "        else:\n",
    "            start_range = prev_end_range - 1\n",
    "            end_range = c+start_range\n",
    "        for j in range(start_range,end_range):\n",
    "            output_list[j] = int(val)\n",
    "        prev = c\n",
    "        prev_start_range = start_range\n",
    "        prev_end_range = end_range\n",
    "        prev_val = int(val)\n",
    "        c = 1\n",
    "print(output_list)\n"
   ]
  },
  {
   "cell_type": "markdown",
   "metadata": {},
   "source": [
    "## Filling the conditional probability "
   ]
  },
  {
   "cell_type": "code",
   "execution_count": 3,
   "metadata": {},
   "outputs": [
    {
     "name": "stdout",
     "output_type": "stream",
     "text": [
      "P(F=F1|S==S1)=1/4\n",
      "P(F=F1|S==S2)=1/3\n",
      "P(F=F1|S==S3)=0/3\n",
      "P(F=F2|S==S1)=1/4\n",
      "P(F=F2|S==S2)=1/3\n",
      "P(F=F2|S==S3)=1/3\n",
      "P(F=F3|S==S1)=0/4\n",
      "P(F=F3|S==S2)=1/3\n",
      "P(F=F3|S==S3)=1/3\n",
      "P(F=F4|S==S1)=1/4\n",
      "P(F=F4|S==S2)=0/3\n",
      "P(F=F4|S==S3)=1/3\n",
      "P(F=F5|S==S1)=1/4\n",
      "P(F=F5|S==S2)=0/3\n",
      "P(F=F5|S==S3)=0/3\n"
     ]
    }
   ],
   "source": [
    "A = [['F1','S1'],['F2','S2'],['F3','S3'],['F1','S2'],['F2','S3'],['F3','S2'],['F2','S1'],['F4','S1'],['F4','S3'],['F5','S1']]\n",
    "l=len(A)\n",
    "F=['F1','F2','F3','F4','F5']\n",
    "S=['S1','S2','S3']\n",
    "for f in F :\n",
    "    for s in S:\n",
    "        n=0\n",
    "        d=0\n",
    "        for i in range(0,l):\n",
    "            if(A[i][1]==s):  # https://stackoverflow.com/questions/57160252/find-conditional-probabilities-using-python\n",
    "                #print(A[i][1])\n",
    "                d=d+1\n",
    "                #print(d)\n",
    "                if(A[i][0]==f):\n",
    "                    #print(A[i][0])\n",
    "                    n=n+1\n",
    "                    #print(n)\n",
    "        print('P(F={}|S=={})={}/{}'.format(f, s, n, d))\n",
    "            \n",
    "\n"
   ]
  },
  {
   "cell_type": "markdown",
   "metadata": {},
   "source": [
    "## Given two sentences S1, S2 "
   ]
  },
  {
   "cell_type": "code",
   "execution_count": 1,
   "metadata": {},
   "outputs": [
    {
     "name": "stdout",
     "output_type": "stream",
     "text": [
      "7\n",
      "['first', 'F', '5']\n",
      "['3', 'second', 'S']\n"
     ]
    }
   ],
   "source": [
    "S1= \"the first column F will contain only 5 uniques values\"\n",
    "S2= \"the second column S will contain only 3 uniques values\"\n",
    "A1=S1.split()\n",
    "A2=S2.split()\n",
    "#O2 = []\n",
    "#O3 = []\n",
    "O1=len(set(A1)&set(A2))\n",
    "print(O1)\n",
    "O2= list(set(A1)-set(A2))\n",
    "print(O2)\n",
    "O3= list(set(A2)-set(A1))\n",
    "print(O3)"
   ]
  },
  {
   "cell_type": "markdown",
   "metadata": {},
   "source": [
    "## Given two sentences S1, S2 "
   ]
  },
  {
   "cell_type": "code",
   "execution_count": 2,
   "metadata": {},
   "outputs": [
    {
     "name": "stdout",
     "output_type": "stream",
     "text": [
      "[[1, 0.4], [0, 0.5], [0, 0.9], [0, 0.3], [0, 0.6], [1, 0.1], [1, 0.9], [1, 0.8]]\n",
      "0.42430993457031635\n"
     ]
    }
   ],
   "source": [
    "from math import log\n",
    "lst = [[1, 0.4], [0, 0.5], [0, 0.9], [0, 0.3], [0, 0.6], [1, 0.1], [1, 0.9], [1, 0.8]]\n",
    "print(lst)\n",
    "f=0\n",
    "for x in lst:\n",
    "    f = f + (x[0]*log((x[1]),10)+((1-x[0])*log(1-(x[1]),10)))\n",
    "    fx = -1 * (f/len(lst))\n",
    "print(fx)"
   ]
  },
  {
   "cell_type": "code",
   "execution_count": null,
   "metadata": {},
   "outputs": [],
   "source": []
  }
 ],
 "metadata": {
  "kernelspec": {
   "display_name": "Python 3",
   "language": "python",
   "name": "python3"
  },
  "language_info": {
   "codemirror_mode": {
    "name": "ipython",
    "version": 3
   },
   "file_extension": ".py",
   "mimetype": "text/x-python",
   "name": "python",
   "nbconvert_exporter": "python",
   "pygments_lexer": "ipython3",
   "version": "3.6.5"
  }
 },
 "nbformat": 4,
 "nbformat_minor": 2
}
